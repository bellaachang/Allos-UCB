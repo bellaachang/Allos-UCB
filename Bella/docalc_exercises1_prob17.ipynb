{
 "cells": [
  {
   "cell_type": "code",
   "execution_count": 1,
   "id": "23eda1ed-096f-4200-8ee4-5ca28a078a8f",
   "metadata": {},
   "outputs": [],
   "source": [
    "import pandas as pd\n",
    "import numpy as np\n",
    "\n",
    "import random"
   ]
  },
  {
   "cell_type": "markdown",
   "id": "659f88ef-f778-49a4-8b9f-b30f43890ce1",
   "metadata": {},
   "source": [
    "## QUESTION 17 -- CREATING A DATASET"
   ]
  },
  {
   "cell_type": "code",
   "execution_count": 71,
   "id": "ce7eb19d-55bb-4443-bf24-6e1d01852417",
   "metadata": {},
   "outputs": [],
   "source": [
    "random.seed(42)\n",
    "# graph: x <- z_3 -> y, x -> z_1 <- y\n",
    "\n",
    "z3 = [1 if random.random() > 0.6 else 0 for i in np.arange(0, 100000)] # 0 w/p 0.6, 1 w/p 0.4\n",
    "\n",
    "# P(x = 1 | z_3 = 1) = 0.1 and P(x = 0 | z_3 = 1) = 0.9\n",
    "# P(x = 1 | z_3 = 0) = 0.7 and P(x = 0 | z_3 = 0) = 0.3\n",
    "x = [1 if (z3[i] == 1 and random.random() > 0.9) \n",
    "            or (z3[i] == 0 and random.random() > 0.3)\n",
    "     else 0 for i in np.arange(0, 100000)]\n",
    "\n",
    "# P(y = 1 | z_3 = 1) = 0.2 and P(y = 0 | z_3 = 1) = 0.8\n",
    "# P(y = 1 | z_3 = 0) = 0.6 and P(y = 1 | z_3 = 0) = 0.4\n",
    "y = [1 if (z3[i] == 1 and random.random() > 0.2) \n",
    "             or (z3[i] == 0 and random.random() > 0.4)\n",
    "     else 0 for i in np.arange(0, 100000)]\n",
    "\n",
    "# P(z_1 = 1 | y = 1, x = 1) = 0.5 and P(z_1 = 0 | y = 1, x = 1) = 0.5\n",
    "# P(z_1 = 1 | y = 0, x = 1) = 0.3 and P(z_1 = 0 | y = 0, x = 1) = 0.7\n",
    "# P(z_1 = 1 | y = 1, x = 0) = 0.2 and P(z_1 = 0 | y = 1, x = 0) = 0.8\n",
    "# P(z_1 = 1 | y = 0, x = 0) = 0.25 and P(z_1 = 0 | y = 0, x = 0) = 0.75\n",
    "z1 = [1 if (y[i] == 1 and x[i] == 1 and random.random() > 0.5) \n",
    "             or (y[i] == 0 and x[i] == 1 and random.random() > 0.7) \n",
    "             or (y[i] == 1 and x[i] == 0 and random.random() > 0.8) \n",
    "             or (y[i] == 0 and x[i] == 0 and random.random() > 0.75)\n",
    "      else 0 for i in np.arange(0, 100000)]"
   ]
  },
  {
   "cell_type": "code",
   "execution_count": 72,
   "id": "30fc176e-26f9-4586-a0c2-30542afb556b",
   "metadata": {},
   "outputs": [
    {
     "data": {
      "text/html": [
       "<div>\n",
       "<style scoped>\n",
       "    .dataframe tbody tr th:only-of-type {\n",
       "        vertical-align: middle;\n",
       "    }\n",
       "\n",
       "    .dataframe tbody tr th {\n",
       "        vertical-align: top;\n",
       "    }\n",
       "\n",
       "    .dataframe thead th {\n",
       "        text-align: right;\n",
       "    }\n",
       "</style>\n",
       "<table border=\"1\" class=\"dataframe\">\n",
       "  <thead>\n",
       "    <tr style=\"text-align: right;\">\n",
       "      <th></th>\n",
       "      <th>z3</th>\n",
       "      <th>x</th>\n",
       "      <th>y</th>\n",
       "      <th>z1</th>\n",
       "    </tr>\n",
       "  </thead>\n",
       "  <tbody>\n",
       "    <tr>\n",
       "      <th>0</th>\n",
       "      <td>1</td>\n",
       "      <td>0</td>\n",
       "      <td>1</td>\n",
       "      <td>1</td>\n",
       "    </tr>\n",
       "    <tr>\n",
       "      <th>1</th>\n",
       "      <td>0</td>\n",
       "      <td>1</td>\n",
       "      <td>0</td>\n",
       "      <td>0</td>\n",
       "    </tr>\n",
       "    <tr>\n",
       "      <th>2</th>\n",
       "      <td>0</td>\n",
       "      <td>1</td>\n",
       "      <td>1</td>\n",
       "      <td>0</td>\n",
       "    </tr>\n",
       "    <tr>\n",
       "      <th>3</th>\n",
       "      <td>0</td>\n",
       "      <td>1</td>\n",
       "      <td>1</td>\n",
       "      <td>1</td>\n",
       "    </tr>\n",
       "    <tr>\n",
       "      <th>4</th>\n",
       "      <td>1</td>\n",
       "      <td>0</td>\n",
       "      <td>0</td>\n",
       "      <td>1</td>\n",
       "    </tr>\n",
       "  </tbody>\n",
       "</table>\n",
       "</div>"
      ],
      "text/plain": [
       "   z3  x  y  z1\n",
       "0   1  0  1   1\n",
       "1   0  1  0   0\n",
       "2   0  1  1   0\n",
       "3   0  1  1   1\n",
       "4   1  0  0   1"
      ]
     },
     "execution_count": 72,
     "metadata": {},
     "output_type": "execute_result"
    }
   ],
   "source": [
    "df = pd.DataFrame({'z3':z3, 'x':x, 'y':y, 'z1':z1})\n",
    "df.head()"
   ]
  },
  {
   "cell_type": "code",
   "execution_count": 73,
   "id": "7a8364e2-ae5b-4c16-91ae-0d05a72ab208",
   "metadata": {},
   "outputs": [
    {
     "data": {
      "text/plain": [
       "0.7741729510446183"
      ]
     },
     "execution_count": 73,
     "metadata": {},
     "output_type": "execute_result"
    }
   ],
   "source": [
    "## equation 42\n",
    "\n",
    "# testing ONLY y=1, x=1, z_1=1 to validate problem\n",
    "numerator = 0\n",
    "denominator = 0\n",
    "for z_3 in [0, 1]:\n",
    "    prob1 = len(df[(df['y'] == 1) & (df['x'] == 1) & (df['z1'] == 1) & (df['z3'] == z_3)]) \\\n",
    "                / len(df[(df['x'] == 1) & (df['z1'] == 1) & (df['z3'] == z_3)])\n",
    "    prob2 = len(df[(df['z1'] == 1) & (df['x'] == 1) & (df['z3'] == z_3)]) \\\n",
    "                / len(df[(df['x'] == 1) & (df['z3'] == z_3)])\n",
    "    prob3 = len(df[df['z3'] == z_3]) / 100000\n",
    "    numerator += (prob1 * prob2 * prob3)\n",
    "    denominator += (prob2 * prob3)\n",
    "\n",
    "numerator / denominator"
   ]
  },
  {
   "cell_type": "code",
   "execution_count": 74,
   "id": "6b6500d9-997c-4486-9249-4967880ae7eb",
   "metadata": {},
   "outputs": [
    {
     "data": {
      "text/plain": [
       "0.7831534589452127"
      ]
     },
     "execution_count": 74,
     "metadata": {},
     "output_type": "execute_result"
    }
   ],
   "source": [
    "## equation 43\n",
    "\n",
    "# y=1, x=1, z_1=1\n",
    "prob1_2 = len(df[(df['z1'] == 1) & (df['x'] == 1) & (df['y'] == 1)]) \\\n",
    "            / len(df[(df['x'] == 1) & (df['y'] == 1)])\n",
    "prob2_2 = len(df[df['y'] == 1]) / 100000\n",
    "\n",
    "numerator2 = prob1_2 * prob2_2\n",
    "\n",
    "numerator2 / denominator"
   ]
  },
  {
   "cell_type": "markdown",
   "id": "6f27ab2d-9bc1-4d49-a456-e7209dbbefaa",
   "metadata": {},
   "source": [
    "When n = 1000: equation 42 yielded approx 0.809 and equation 43 yielded approx 0.774.\n",
    "Meanwhile, when n = 10000: equation 42 yielded approx 0.776 and equation 43 yielded approx 0.761.\n",
    "Lastly, when n = 100000: equation 42 yielded approx 0.774 and equation 43 yielded approx 0.783.\n",
    "\n",
    "Notice that as n increases, the similarity of the two equations increases as well!"
   ]
  }
 ],
 "metadata": {
  "kernelspec": {
   "display_name": "Python 3 (ipykernel)",
   "language": "python",
   "name": "python3"
  },
  "language_info": {
   "codemirror_mode": {
    "name": "ipython",
    "version": 3
   },
   "file_extension": ".py",
   "mimetype": "text/x-python",
   "name": "python",
   "nbconvert_exporter": "python",
   "pygments_lexer": "ipython3",
   "version": "3.9.15"
  }
 },
 "nbformat": 4,
 "nbformat_minor": 5
}
