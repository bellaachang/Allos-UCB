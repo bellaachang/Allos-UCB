{
 "cells": [
  {
   "attachments": {},
   "cell_type": "markdown",
   "metadata": {},
   "source": [
    "**Graph 1:**\n",
    "\n",
    "Unblockable backdoor path. Frontdoor path cannot be blocked either: unable to use rule 1 or rule 2 ($y \\not\\perp z_1$, and there are no variables on which we can condition to make the two independent).\n",
    "\n",
    "**Graph 2:**"
   ]
  },
  {
   "cell_type": "code",
   "execution_count": null,
   "metadata": {},
   "outputs": [],
   "source": []
  }
 ],
 "metadata": {
  "kernelspec": {
   "display_name": "base",
   "language": "python",
   "name": "python3"
  },
  "language_info": {
   "name": "python",
   "version": "3.11.0 (main, Mar  1 2023, 12:33:14) [Clang 14.0.6 ]"
  },
  "orig_nbformat": 4,
  "vscode": {
   "interpreter": {
    "hash": "8ce58dd4b113ebc0f0e5222d92e0cbb1c59e5ae4e366ef5167b3c7dc3ca5d3b0"
   }
  }
 },
 "nbformat": 4,
 "nbformat_minor": 2
}
